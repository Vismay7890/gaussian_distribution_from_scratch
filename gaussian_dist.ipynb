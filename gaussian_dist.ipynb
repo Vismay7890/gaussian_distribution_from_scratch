{
 "cells": [
  {
   "cell_type": "code",
   "execution_count": 48,
   "id": "98a66277-f367-4ba1-a419-6c0c8c7cdb32",
   "metadata": {},
   "outputs": [],
   "source": [
    "#importing the required libraries\n",
    "\n",
    "import numpy as np\n",
    "import matplotlib.pyplot as plt\n",
    "import scipy\n",
    "from cmath import sqrt , pi"
   ]
  },
  {
   "cell_type": "code",
   "execution_count": 41,
   "id": "d40dd50e-91de-47bb-a32e-f67023cf4c70",
   "metadata": {},
   "outputs": [
    {
     "data": {
      "text/plain": [
       "array([-5.        , -4.8989899 , -4.7979798 , -4.6969697 , -4.5959596 ,\n",
       "       -4.49494949, -4.39393939, -4.29292929, -4.19191919, -4.09090909,\n",
       "       -3.98989899, -3.88888889, -3.78787879, -3.68686869, -3.58585859,\n",
       "       -3.48484848, -3.38383838, -3.28282828, -3.18181818, -3.08080808,\n",
       "       -2.97979798, -2.87878788, -2.77777778, -2.67676768, -2.57575758,\n",
       "       -2.47474747, -2.37373737, -2.27272727, -2.17171717, -2.07070707,\n",
       "       -1.96969697, -1.86868687, -1.76767677, -1.66666667, -1.56565657,\n",
       "       -1.46464646, -1.36363636, -1.26262626, -1.16161616, -1.06060606,\n",
       "       -0.95959596, -0.85858586, -0.75757576, -0.65656566, -0.55555556,\n",
       "       -0.45454545, -0.35353535, -0.25252525, -0.15151515, -0.05050505,\n",
       "        0.05050505,  0.15151515,  0.25252525,  0.35353535,  0.45454545,\n",
       "        0.55555556,  0.65656566,  0.75757576,  0.85858586,  0.95959596,\n",
       "        1.06060606,  1.16161616,  1.26262626,  1.36363636,  1.46464646,\n",
       "        1.56565657,  1.66666667,  1.76767677,  1.86868687,  1.96969697,\n",
       "        2.07070707,  2.17171717,  2.27272727,  2.37373737,  2.47474747,\n",
       "        2.57575758,  2.67676768,  2.77777778,  2.87878788,  2.97979798,\n",
       "        3.08080808,  3.18181818,  3.28282828,  3.38383838,  3.48484848,\n",
       "        3.58585859,  3.68686869,  3.78787879,  3.88888889,  3.98989899,\n",
       "        4.09090909,  4.19191919,  4.29292929,  4.39393939,  4.49494949,\n",
       "        4.5959596 ,  4.6969697 ,  4.7979798 ,  4.8989899 ,  5.        ])"
      ]
     },
     "execution_count": 41,
     "metadata": {},
     "output_type": "execute_result"
    }
   ],
   "source": [
    "# Generating 100 datapoints between -5 and 5\n",
    "x = np.linspace(-5,5,100)\n",
    "x"
   ]
  },
  {
   "cell_type": "code",
   "execution_count": 42,
   "id": "0af533f3-3b1d-4f35-a368-cf5b2a2904cb",
   "metadata": {},
   "outputs": [
    {
     "data": {
      "text/plain": [
       "-3.552713678800501e-17"
      ]
     },
     "execution_count": 42,
     "metadata": {},
     "output_type": "execute_result"
    }
   ],
   "source": [
    "# Finding mean of the variable 'x'\n",
    "mean_x = np.mean(x)\n",
    "mean_x"
   ]
  },
  {
   "cell_type": "code",
   "execution_count": 43,
   "id": "05ddc303-10a8-4bc3-8a94-e5b327e0a746",
   "metadata": {},
   "outputs": [
    {
     "data": {
      "text/plain": [
       "8.501683501683502"
      ]
     },
     "execution_count": 43,
     "metadata": {},
     "output_type": "execute_result"
    }
   ],
   "source": [
    "# Finding variance of the variable 'x'\n",
    "var_x = np.var(x)\n",
    "var_x"
   ]
  },
  {
   "cell_type": "code",
   "execution_count": 44,
   "id": "86fdcec6-0041-49eb-8282-d01bca4f65ab",
   "metadata": {},
   "outputs": [
    {
     "data": {
      "text/plain": [
       "(0.04692509199177248+0j)"
      ]
     },
     "execution_count": 44,
     "metadata": {},
     "output_type": "execute_result"
    }
   ],
   "source": [
    "''' Here we calculate the first half of the gaussian dstribution equation just for the sake of simplicity \n",
    "    in the code ----> it is the part of finding 1/sqrt(2*pi*sigma^2)'''\n",
    "var_sqr = pow(var_x,2)\n",
    "first = 1/sqrt(2 * pi * var_sqr)\n",
    "first"
   ]
  },
  {
   "cell_type": "code",
   "execution_count": 45,
   "id": "019777ff-4b3f-4860-9dfb-e171c828b8e7",
   "metadata": {},
   "outputs": [
    {
     "data": {
      "text/plain": [
       "array([1.38879439e-11, 3.77474939e-11, 1.00525455e-10, 2.62302071e-10,\n",
       "       6.70602464e-10, 1.67983382e-09, 4.12292325e-09, 9.91475372e-09,\n",
       "       2.33612654e-08, 5.39322510e-08, 1.21994003e-07, 2.70374774e-07,\n",
       "       5.87126398e-07, 1.24920812e-06, 2.60420842e-06, 5.31929936e-06,\n",
       "       1.06456180e-05, 2.08749322e-05, 4.01067085e-05, 7.54999601e-05,\n",
       "       1.39256082e-04, 2.51663004e-04, 4.45617596e-04, 7.73113109e-04,\n",
       "       1.31420010e-03, 2.18885859e-03, 3.57200177e-03, 5.71141054e-03,\n",
       "       8.94772943e-03, 1.37347279e-02, 2.06568943e-02, 3.04402171e-02,\n",
       "       4.39509449e-02, 6.21765240e-02, 8.61831599e-02, 1.17045882e-01,\n",
       "       1.55749843e-01, 2.03065828e-01, 2.59408275e-01, 3.24689734e-01,\n",
       "       3.98190635e-01, 4.78466215e-01, 5.63312339e-01, 6.49807924e-01,\n",
       "       7.34443672e-01, 8.13335512e-01, 8.82508158e-01, 9.38221701e-01,\n",
       "       9.77304662e-01, 9.97452490e-01, 9.97452490e-01, 9.77304662e-01,\n",
       "       9.38221701e-01, 8.82508158e-01, 8.13335512e-01, 7.34443672e-01,\n",
       "       6.49807924e-01, 5.63312339e-01, 4.78466215e-01, 3.98190635e-01,\n",
       "       3.24689734e-01, 2.59408275e-01, 2.03065828e-01, 1.55749843e-01,\n",
       "       1.17045882e-01, 8.61831599e-02, 6.21765240e-02, 4.39509449e-02,\n",
       "       3.04402171e-02, 2.06568943e-02, 1.37347279e-02, 8.94772943e-03,\n",
       "       5.71141054e-03, 3.57200177e-03, 2.18885859e-03, 1.31420010e-03,\n",
       "       7.73113109e-04, 4.45617596e-04, 2.51663004e-04, 1.39256082e-04,\n",
       "       7.54999601e-05, 4.01067085e-05, 2.08749322e-05, 1.06456180e-05,\n",
       "       5.31929936e-06, 2.60420842e-06, 1.24920812e-06, 5.87126398e-07,\n",
       "       2.70374774e-07, 1.21994003e-07, 5.39322510e-08, 2.33612654e-08,\n",
       "       9.91475372e-09, 4.12292325e-09, 1.67983382e-09, 6.70602464e-10,\n",
       "       2.62302071e-10, 1.00525455e-10, 3.77474939e-11, 1.38879439e-11])"
      ]
     },
     "execution_count": 45,
     "metadata": {},
     "output_type": "execute_result"
    }
   ],
   "source": [
    "''' Here we calculate the second part of the gaussian distribution equation that is the exponential part''' \n",
    "sqr = (-1) * pow((x - mean_x),2)\n",
    "second = np.exp(sqr)\n",
    "second"
   ]
  },
  {
   "cell_type": "code",
   "execution_count": 46,
   "id": "87985bd7-ce02-49ae-b047-bedd86fabc2d",
   "metadata": {},
   "outputs": [
    {
     "data": {
      "text/plain": [
       "array([6.51693043e-13+0.j, 1.77130462e-12+0.j, 4.71716620e-12+0.j,\n",
       "       1.23085488e-11+0.j, 3.14680823e-11+0.j, 7.88263568e-11+0.j,\n",
       "       1.93468553e-10+0.j, 4.65250731e-10+0.j, 1.09622953e-09+0.j,\n",
       "       2.53077584e-09+0.j, 5.72457981e-09+0.j, 1.26873611e-08+0.j,\n",
       "       2.75509602e-08+0.j, 5.86192058e-08+0.j, 1.22202720e-07+0.j,\n",
       "       2.49608612e-07+0.j, 4.99546603e-07+0.j, 9.79558114e-07+0.j,\n",
       "       1.88201099e-06+0.j, 3.54284257e-06+0.j, 6.53460448e-06+0.j,\n",
       "       1.18093096e-05+0.j, 2.09106467e-05+0.j, 3.62784038e-05+0.j,\n",
       "       6.16689605e-05+0.j, 1.02712391e-04+0.j, 1.67616512e-04+0.j,\n",
       "       2.68008465e-04+0.j, 4.19873027e-04+0.j, 6.44503369e-04+0.j,\n",
       "       9.69326664e-04+0.j, 1.42840999e-03+0.j, 2.06240213e-03+0.j,\n",
       "       2.91763911e-03+0.j, 4.04415270e-03+0.j, 5.49238878e-03+0.j,\n",
       "       7.30857569e-03+0.j, 9.52888264e-03+0.j, 1.21727572e-02+0.j,\n",
       "       1.52360957e-02+0.j, 1.86851322e-02+0.j, 2.24520712e-02+0.j,\n",
       "       2.64334833e-02+0.j, 3.04922966e-02+0.j, 3.44638369e-02+0.j,\n",
       "       3.81658437e-02+0.j, 4.14117765e-02+0.j, 4.40261396e-02+0.j,\n",
       "       4.58601112e-02+0.j, 4.68055499e-02+0.j, 4.68055499e-02+0.j,\n",
       "       4.58601112e-02+0.j, 4.40261396e-02+0.j, 4.14117765e-02+0.j,\n",
       "       3.81658437e-02+0.j, 3.44638369e-02+0.j, 3.04922966e-02+0.j,\n",
       "       2.64334833e-02+0.j, 2.24520712e-02+0.j, 1.86851322e-02+0.j,\n",
       "       1.52360957e-02+0.j, 1.21727572e-02+0.j, 9.52888264e-03+0.j,\n",
       "       7.30857569e-03+0.j, 5.49238878e-03+0.j, 4.04415270e-03+0.j,\n",
       "       2.91763911e-03+0.j, 2.06240213e-03+0.j, 1.42840999e-03+0.j,\n",
       "       9.69326664e-04+0.j, 6.44503369e-04+0.j, 4.19873027e-04+0.j,\n",
       "       2.68008465e-04+0.j, 1.67616512e-04+0.j, 1.02712391e-04+0.j,\n",
       "       6.16689605e-05+0.j, 3.62784038e-05+0.j, 2.09106467e-05+0.j,\n",
       "       1.18093096e-05+0.j, 6.53460448e-06+0.j, 3.54284257e-06+0.j,\n",
       "       1.88201099e-06+0.j, 9.79558114e-07+0.j, 4.99546603e-07+0.j,\n",
       "       2.49608612e-07+0.j, 1.22202720e-07+0.j, 5.86192058e-08+0.j,\n",
       "       2.75509602e-08+0.j, 1.26873611e-08+0.j, 5.72457981e-09+0.j,\n",
       "       2.53077584e-09+0.j, 1.09622953e-09+0.j, 4.65250731e-10+0.j,\n",
       "       1.93468553e-10+0.j, 7.88263568e-11+0.j, 3.14680823e-11+0.j,\n",
       "       1.23085488e-11+0.j, 4.71716620e-12+0.j, 1.77130462e-12+0.j,\n",
       "       6.51693043e-13+0.j])"
      ]
     },
     "execution_count": 46,
     "metadata": {},
     "output_type": "execute_result"
    }
   ],
   "source": [
    "# Finally evaluating the distribution\n",
    "gaussian_dist = first * second\n",
    "gaussian_dist"
   ]
  },
  {
   "cell_type": "code",
   "execution_count": 47,
   "id": "7c0e3b26-8e2a-4b5b-b356-c5b778d83919",
   "metadata": {},
   "outputs": [
    {
     "name": "stderr",
     "output_type": "stream",
     "text": [
      "/home/vismay/anaconda3/lib/python3.8/site-packages/matplotlib/cbook/__init__.py:1298: ComplexWarning: Casting complex values to real discards the imaginary part\n",
      "  return np.asarray(x, float)\n"
     ]
    },
    {
     "data": {
      "image/png": "[encoded data removed]",
      "text/plain": [
       "<Figure size 540x540 with 1 Axes>"
      ]
     },
     "metadata": {
      "needs_background": "light"
     },
     "output_type": "display_data"
    }
   ],
   "source": [
    "# Plotting the distribution with matplotlib\n",
    "plt.figure(figsize = (7.5,7.5))\n",
    "plt.plot( x , gaussian_dist)\n",
    "plt.title('Normal Distribution (Mean = mu, STD = var_x)', fontsize='1')\n",
    "plt.xlabel('Values of Random Variable X', fontsize='15')\n",
    "plt.ylabel('Probability', fontsize='15')\n",
    "plt.show()"
   ]
  },
  {
   "cell_type": "code",
   "execution_count": null,
   "id": "4c7ac8ff-9fec-4ee7-b19a-e1bfea64967c",
   "metadata": {},
   "outputs": [],
   "source": []
  }
 ],
 "metadata": {
  "kernelspec": {
   "display_name": "Python 3 (ipykernel)",
   "language": "python",
   "name": "python3"
  },
  "language_info": {
   "codemirror_mode": {
    "name": "ipython",
    "version": 3
   },
   "file_extension": ".py",
   "mimetype": "text/x-python",
   "name": "python",
   "nbconvert_exporter": "python",
   "pygments_lexer": "ipython3",
   "version": "3.8.12"
  }
 },
 "nbformat": 4,
 "nbformat_minor": 5
}
